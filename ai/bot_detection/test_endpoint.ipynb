{
 "cells": [
  {
   "cell_type": "code",
   "execution_count": 16,
   "id": "136d7089",
   "metadata": {},
   "outputs": [
    {
     "name": "stdout",
     "output_type": "stream",
     "text": [
      "[{'bot_probability': 1.0, 'metadata': {'account_age_days': 91, 'avg_engagement_duration': 61.529999999999994, 'bio_length': 1, 'followers_count': 18332, 'followers_following_ratio': 333.3090909090909, 'following_count': 54, 'location_consistent': 0, 'num_videos_engaged': 4, 'profile_pic': 1, 'timezone_offset': 8, 'total_events': 10, 'verified': 0}, 'user_id': 'bot_user_55'}, {'bot_probability': 0.9750293112848486, 'metadata': {'account_age_days': 125, 'avg_engagement_duration': 51.361111111111114, 'bio_length': 11, 'followers_count': 17758, 'followers_following_ratio': 161.43636363636364, 'following_count': 109, 'location_consistent': 0, 'num_videos_engaged': 4, 'profile_pic': 1, 'timezone_offset': 8, 'total_events': 9, 'verified': 0}, 'user_id': 'bot_user_73'}, {'bot_probability': 0.949267516020571, 'metadata': {'account_age_days': 161, 'avg_engagement_duration': 76.015, 'bio_length': 6, 'followers_count': 16488, 'followers_following_ratio': 94.21714285714286, 'following_count': 174, 'location_consistent': 0, 'num_videos_engaged': 1, 'profile_pic': 1, 'timezone_offset': -5, 'total_events': 2, 'verified': 0}, 'user_id': 'bot_user_36'}, {'bot_probability': 0.924667615354283, 'metadata': {'account_age_days': 134, 'avg_engagement_duration': 70.048, 'bio_length': 0, 'followers_count': 8288, 'followers_following_ratio': 54.169934640522875, 'following_count': 152, 'location_consistent': 0, 'num_videos_engaged': 4, 'profile_pic': 0, 'timezone_offset': -8, 'total_events': 5, 'verified': 0}, 'user_id': 'bot_user_68'}, {'bot_probability': 0.9167676332826874, 'metadata': {'account_age_days': 41, 'avg_engagement_duration': 53.580000000000005, 'bio_length': 15, 'followers_count': 14931, 'followers_following_ratio': 91.60122699386503, 'following_count': 162, 'location_consistent': 0, 'num_videos_engaged': 2, 'profile_pic': 1, 'timezone_offset': 0, 'total_events': 3, 'verified': 0}, 'user_id': 'bot_user_87'}, {'bot_probability': 0.913694033502956, 'metadata': {'account_age_days': 65, 'avg_engagement_duration': 81.276, 'bio_length': 0, 'followers_count': 11214, 'followers_following_ratio': 43.976470588235294, 'following_count': 254, 'location_consistent': 0, 'num_videos_engaged': 3, 'profile_pic': 0, 'timezone_offset': 1, 'total_events': 5, 'verified': 0}, 'user_id': 'bot_user_31'}, {'bot_probability': 0.912478299330684, 'metadata': {'account_age_days': 618, 'avg_engagement_duration': 63.7, 'bio_length': 70, 'followers_count': 7854, 'followers_following_ratio': 5.626074498567335, 'following_count': 1395, 'location_consistent': 1, 'num_videos_engaged': 1, 'profile_pic': 1, 'timezone_offset': 8, 'total_events': 2, 'verified': 0}, 'user_id': 'bot_user_18'}, {'bot_probability': 0.8888398323965152, 'metadata': {'account_age_days': 963, 'avg_engagement_duration': 64.9425, 'bio_length': 29, 'followers_count': 5216, 'followers_following_ratio': 5.322448979591837, 'following_count': 979, 'location_consistent': 0, 'num_videos_engaged': 2, 'profile_pic': 1, 'timezone_offset': -8, 'total_events': 4, 'verified': 0}, 'user_id': 'bot_user_97'}, {'bot_probability': 0.8775459960978027, 'metadata': {'account_age_days': 90, 'avg_engagement_duration': 66.92999999999999, 'bio_length': 4, 'followers_count': 17635, 'followers_following_ratio': 48.71546961325967, 'following_count': 361, 'location_consistent': 0, 'num_videos_engaged': 4, 'profile_pic': 1, 'timezone_offset': -5, 'total_events': 6, 'verified': 0}, 'user_id': 'bot_user_25'}, {'bot_probability': 0.877095564527523, 'metadata': {'account_age_days': 130, 'avg_engagement_duration': 33.595, 'bio_length': 7, 'followers_count': 14580, 'followers_following_ratio': 39.088471849865954, 'following_count': 372, 'location_consistent': 0, 'num_videos_engaged': 2, 'profile_pic': 1, 'timezone_offset': 8, 'total_events': 2, 'verified': 0}, 'user_id': 'bot_user_85'}]\n"
     ]
    }
   ],
   "source": [
    "import requests\n",
    "import pandas as pd\n",
    "\n",
    "# Flask endpoint URL\n",
    "url = \"http://127.0.0.1:5000/admin/run-bot-user-check\"\n",
    "\n",
    "# Load your dataset (replace with your CSV path)\n",
    "df = pd.read_csv(r\"C:\\Users\\jeany\\Desktop\\NUS\\Projects\\TikTokJam-2025\\ai\\bot_detection\\datasets\\test_skibidi.csv\")\n",
    "df = df.drop(columns=[\"is_bot\", \"bot_type\"], errors=\"ignore\")\n",
    "# Convert to JSON payload\n",
    "events_payload = {\"events\": df.to_dict(orient=\"records\")}\n",
    "\n",
    "# Send POST request\n",
    "response = requests.post(url, json=events_payload)\n",
    "\n",
    "# Check response\n",
    "if response.status_code == 200:\n",
    "    results = response.json()\n",
    "    print(results)\n",
    "else:\n",
    "    print(f\"Error {response.status_code}: {response.text}\")\n"
   ]
  },
  {
   "cell_type": "code",
   "execution_count": 6,
   "id": "b0ef468e",
   "metadata": {},
   "outputs": [
    {
     "ename": "FileNotFoundError",
     "evalue": "[Errno 2] No such file or directory: 'ai/bot_detection/models/scaler.pkl'",
     "output_type": "error",
     "traceback": [
      "\u001b[31m---------------------------------------------------------------------------\u001b[39m",
      "\u001b[31mFileNotFoundError\u001b[39m                         Traceback (most recent call last)",
      "\u001b[36mCell\u001b[39m\u001b[36m \u001b[39m\u001b[32mIn[6]\u001b[39m\u001b[32m, line 10\u001b[39m\n\u001b[32m      7\u001b[39m sys.path.append(\u001b[33mr\u001b[39m\u001b[33m\"\u001b[39m\u001b[33mC:\u001b[39m\u001b[33m\\\u001b[39m\u001b[33mUsers\u001b[39m\u001b[33m\\\u001b[39m\u001b[33mjeany\u001b[39m\u001b[33m\\\u001b[39m\u001b[33mDesktop\u001b[39m\u001b[33m\\\u001b[39m\u001b[33mNUS\u001b[39m\u001b[33m\\\u001b[39m\u001b[33mProjects\u001b[39m\u001b[33m\\\u001b[39m\u001b[33mTikTokJam-2025\u001b[39m\u001b[33m\\\u001b[39m\u001b[33mai\u001b[39m\u001b[33m\"\u001b[39m)\n\u001b[32m      8\u001b[39m sys.path.append(\u001b[33mr\u001b[39m\u001b[33m\"\u001b[39m\u001b[33mC:\u001b[39m\u001b[33m\\\u001b[39m\u001b[33mUsers\u001b[39m\u001b[33m\\\u001b[39m\u001b[33mjeany\u001b[39m\u001b[33m\\\u001b[39m\u001b[33mDesktop\u001b[39m\u001b[33m\\\u001b[39m\u001b[33mNUS\u001b[39m\u001b[33m\\\u001b[39m\u001b[33mProjects\u001b[39m\u001b[33m\\\u001b[39m\u001b[33mTikTokJam-2025\u001b[39m\u001b[33m\\\u001b[39m\u001b[33mai\u001b[39m\u001b[33m\\\u001b[39m\u001b[33mbot_detection\u001b[39m\u001b[33m\"\u001b[39m)\n\u001b[32m---> \u001b[39m\u001b[32m10\u001b[39m \u001b[38;5;28;01mfrom\u001b[39;00m\u001b[38;5;250m \u001b[39m\u001b[34;01mbot_user\u001b[39;00m\u001b[38;5;250m \u001b[39m\u001b[38;5;28;01mimport\u001b[39;00m aggregate_per_user, bot_probabilities\n\u001b[32m     12\u001b[39m \u001b[38;5;28;01mdef\u001b[39;00m\u001b[38;5;250m \u001b[39m\u001b[34mrun_bot_user_check\u001b[39m(events):\n\u001b[32m     13\u001b[39m \u001b[38;5;250m    \u001b[39m\u001b[33;03m\"\"\"\u001b[39;00m\n\u001b[32m     14\u001b[39m \u001b[33;03m    CHECK IF USERS ARE BOTS\u001b[39;00m\n\u001b[32m     15\u001b[39m \u001b[33;03m    EXPECTS: JSON payload with 'events': list of event dicts\u001b[39;00m\n\u001b[32m     16\u001b[39m \u001b[33;03m    \"\"\"\u001b[39;00m\n",
      "\u001b[36mFile \u001b[39m\u001b[32mc:\\Users\\jeany\\Desktop\\NUS\\Projects\\TikTokJam-2025\\ai\\bot_detection\\bot_user.py:9\u001b[39m\n\u001b[32m      4\u001b[39m \u001b[38;5;28;01mfrom\u001b[39;00m\u001b[38;5;250m \u001b[39m\u001b[34;01msklearn\u001b[39;00m\u001b[34;01m.\u001b[39;00m\u001b[34;01mmetrics\u001b[39;00m\u001b[38;5;250m \u001b[39m\u001b[38;5;28;01mimport\u001b[39;00m classification_report, confusion_matrix\n\u001b[32m      6\u001b[39m \u001b[38;5;66;03m# ----------------------\u001b[39;00m\n\u001b[32m      7\u001b[39m \u001b[38;5;66;03m# Load model & scaler\u001b[39;00m\n\u001b[32m      8\u001b[39m \u001b[38;5;66;03m# ----------------------\u001b[39;00m\n\u001b[32m----> \u001b[39m\u001b[32m9\u001b[39m scaler = \u001b[43mjoblib\u001b[49m\u001b[43m.\u001b[49m\u001b[43mload\u001b[49m\u001b[43m(\u001b[49m\u001b[33;43m\"\u001b[39;49m\u001b[33;43mai/bot_detection/models/scaler.pkl\u001b[39;49m\u001b[33;43m\"\u001b[39;49m\u001b[43m)\u001b[49m\n\u001b[32m     10\u001b[39m iso_model = joblib.load(\u001b[33m\"\u001b[39m\u001b[33mai/bot_detection/models/isolation_forest_model.pkl\u001b[39m\u001b[33m\"\u001b[39m)\n\u001b[32m     12\u001b[39m \u001b[38;5;66;03m# ----------------------\u001b[39;00m\n\u001b[32m     13\u001b[39m \u001b[38;5;66;03m# Aggregation function (same as training)\u001b[39;00m\n\u001b[32m     14\u001b[39m \u001b[38;5;66;03m# ----------------------\u001b[39;00m\n",
      "\u001b[36mFile \u001b[39m\u001b[32mc:\\Users\\jeany\\Desktop\\NUS\\Projects\\TikTokJam-2025\\venv\\Lib\\site-packages\\joblib\\numpy_pickle.py:735\u001b[39m, in \u001b[36mload\u001b[39m\u001b[34m(filename, mmap_mode, ensure_native_byte_order)\u001b[39m\n\u001b[32m    733\u001b[39m         obj = _unpickle(fobj, ensure_native_byte_order=ensure_native_byte_order)\n\u001b[32m    734\u001b[39m \u001b[38;5;28;01melse\u001b[39;00m:\n\u001b[32m--> \u001b[39m\u001b[32m735\u001b[39m     \u001b[38;5;28;01mwith\u001b[39;00m \u001b[38;5;28;43mopen\u001b[39;49m\u001b[43m(\u001b[49m\u001b[43mfilename\u001b[49m\u001b[43m,\u001b[49m\u001b[43m \u001b[49m\u001b[33;43m\"\u001b[39;49m\u001b[33;43mrb\u001b[39;49m\u001b[33;43m\"\u001b[39;49m\u001b[43m)\u001b[49m \u001b[38;5;28;01mas\u001b[39;00m f:\n\u001b[32m    736\u001b[39m         \u001b[38;5;28;01mwith\u001b[39;00m _validate_fileobject_and_memmap(f, filename, mmap_mode) \u001b[38;5;28;01mas\u001b[39;00m (\n\u001b[32m    737\u001b[39m             fobj,\n\u001b[32m    738\u001b[39m             validated_mmap_mode,\n\u001b[32m    739\u001b[39m         ):\n\u001b[32m    740\u001b[39m             \u001b[38;5;28;01mif\u001b[39;00m \u001b[38;5;28misinstance\u001b[39m(fobj, \u001b[38;5;28mstr\u001b[39m):\n\u001b[32m    741\u001b[39m                 \u001b[38;5;66;03m# if the returned file object is a string, this means we\u001b[39;00m\n\u001b[32m    742\u001b[39m                 \u001b[38;5;66;03m# try to load a pickle file generated with an version of\u001b[39;00m\n\u001b[32m    743\u001b[39m                 \u001b[38;5;66;03m# Joblib so we load it with joblib compatibility function.\u001b[39;00m\n",
      "\u001b[31mFileNotFoundError\u001b[39m: [Errno 2] No such file or directory: 'ai/bot_detection/models/scaler.pkl'"
     ]
    }
   ],
   "source": [
    "from flask import jsonify\n",
    "import pandas as pd\n",
    "\n",
    "import sys\n",
    "\n",
    "sys.path.append(r\"C:\\Users\\jeany\\Desktop\\NUS\\Projects\\TikTokJam-2025\")\n",
    "sys.path.append(r\"C:\\Users\\jeany\\Desktop\\NUS\\Projects\\TikTokJam-2025\\ai\")\n",
    "sys.path.append(r\"C:\\Users\\jeany\\Desktop\\NUS\\Projects\\TikTokJam-2025\\ai\\bot_detection\")\n",
    "\n",
    "from bot_user import aggregate_per_user, bot_probabilities\n",
    "\n",
    "def run_bot_user_check(events):\n",
    "    \"\"\"\n",
    "    CHECK IF USERS ARE BOTS\n",
    "    EXPECTS: JSON payload with 'events': list of event dicts\n",
    "    \"\"\"\n",
    "\n",
    "    # Convert list of events → DataFrame\n",
    "    df = pd.DataFrame(events)\n",
    "\n",
    "    # Aggregate per user\n",
    "    user_features = aggregate_per_user(df)\n",
    "\n",
    "    # Get bot probabilities\n",
    "    results = bot_probabilities(user_features)\n",
    "\n",
    "    # Return as JSON\n",
    "    return (results.to_dict(orient=\"records\"))"
   ]
  },
  {
   "cell_type": "code",
   "execution_count": 7,
   "id": "e5505406",
   "metadata": {},
   "outputs": [
    {
     "name": "stdout",
     "output_type": "stream",
     "text": [
      "[{'user_id': 'u1', 'bot_probability': 9.530394917689478e-09}, {'user_id': 'u2', 'bot_probability': 1.0}]\n"
     ]
    }
   ],
   "source": [
    "print(run_bot_user_check(events_payload[\"events\"]))"
   ]
  },
  {
   "cell_type": "code",
   "execution_count": null,
   "id": "0e894926",
   "metadata": {},
   "outputs": [],
   "source": []
  }
 ],
 "metadata": {
  "kernelspec": {
   "display_name": "venv",
   "language": "python",
   "name": "python3"
  },
  "language_info": {
   "codemirror_mode": {
    "name": "ipython",
    "version": 3
   },
   "file_extension": ".py",
   "mimetype": "text/x-python",
   "name": "python",
   "nbconvert_exporter": "python",
   "pygments_lexer": "ipython3",
   "version": "3.13.7"
  }
 },
 "nbformat": 4,
 "nbformat_minor": 5
}
