{
 "cells": [
  {
   "cell_type": "code",
   "execution_count": 8,
   "id": "136d7089",
   "metadata": {},
   "outputs": [
    {
     "name": "stdout",
     "output_type": "stream",
     "text": [
      "Bot probabilities per user:\n",
      "{'bot_probability': 9.530394917689478e-09, 'user_id': 'u1'}\n",
      "{'bot_probability': 1.0, 'user_id': 'u2'}\n"
     ]
    }
   ],
   "source": [
    "import requests\n",
    "import json\n",
    "\n",
    "# Flask endpoint URL\n",
    "url = \"http://127.0.0.1:5000/admin/run-bot-user-check\"\n",
    "\n",
    "# Example list of events for multiple users\n",
    "events_payload = {\n",
    "    \"events\": [\n",
    "        {\n",
    "            \"user_id\": \"u1\",\n",
    "            \"video_id\": \"v1\",\n",
    "            \"event_id\": \"e1\",\n",
    "            \"engagement_duration\": 10.2,\n",
    "            \"account_age_days\": 100,\n",
    "            \"followers_count\": 50,\n",
    "            \"following_count\": 10,\n",
    "            \"profile_pic\": 1,\n",
    "            \"bio_length\": 20,\n",
    "            \"verified\": 0,\n",
    "            \"location_consistent\": 1,\n",
    "            \"timezone_offset\": 8\n",
    "        },\n",
    "        {\n",
    "            \"user_id\": \"u1\",\n",
    "            \"video_id\": \"v2\",\n",
    "            \"event_id\": \"e2\",\n",
    "            \"engagement_duration\": 5.5,\n",
    "            \"account_age_days\": 100,\n",
    "            \"followers_count\": 50,\n",
    "            \"following_count\": 10,\n",
    "            \"profile_pic\": 1,\n",
    "            \"bio_length\": 20,\n",
    "            \"verified\": 0,\n",
    "            \"location_consistent\": 1,\n",
    "            \"timezone_offset\": 8\n",
    "        },\n",
    "        {\n",
    "            \"user_id\": \"u2\",\n",
    "            \"video_id\": \"v3\",\n",
    "            \"event_id\": \"e3\",\n",
    "            \"engagement_duration\": 2.1,\n",
    "            \"account_age_days\": 3,\n",
    "            \"followers_count\": 2,\n",
    "            \"following_count\": 200,\n",
    "            \"profile_pic\": 0,\n",
    "            \"bio_length\": 0,\n",
    "            \"verified\": 0,\n",
    "            \"location_consistent\": 0,\n",
    "            \"timezone_offset\": 8\n",
    "        }\n",
    "    ]\n",
    "}\n",
    "\n",
    "# Send POST request\n",
    "response = requests.post(url, json=events_payload)\n",
    "\n",
    "# Check status\n",
    "if response.status_code == 200:\n",
    "    # Parse JSON response\n",
    "    results = response.json()\n",
    "    print(\"Bot probabilities per user:\")\n",
    "    for user in results:\n",
    "        print(user)\n",
    "else:\n",
    "    print(f\"Error {response.status_code}: {response.text}\")\n"
   ]
  },
  {
   "cell_type": "code",
   "execution_count": 6,
   "id": "b0ef468e",
   "metadata": {},
   "outputs": [],
   "source": [
    "from flask import jsonify\n",
    "import pandas as pd\n",
    "\n",
    "from bot_user import aggregate_per_user, bot_probabilities\n",
    "\n",
    "\n",
    "def run_bot_user_check(events):\n",
    "    \"\"\"\n",
    "    CHECK IF USERS ARE BOTS\n",
    "    EXPECTS: JSON payload with 'events': list of event dicts\n",
    "    \"\"\"\n",
    "\n",
    "    # Convert list of events → DataFrame\n",
    "    df = pd.DataFrame(events)\n",
    "\n",
    "    # Aggregate per user\n",
    "    user_features = aggregate_per_user(df)\n",
    "\n",
    "    # Get bot probabilities\n",
    "    results = bot_probabilities(user_features)\n",
    "\n",
    "    # Return as JSON\n",
    "    return (results.to_dict(orient=\"records\"))"
   ]
  },
  {
   "cell_type": "code",
   "execution_count": 7,
   "id": "e5505406",
   "metadata": {},
   "outputs": [
    {
     "name": "stdout",
     "output_type": "stream",
     "text": [
      "[{'user_id': 'u1', 'bot_probability': 9.530394917689478e-09}, {'user_id': 'u2', 'bot_probability': 1.0}]\n"
     ]
    }
   ],
   "source": [
    "print(run_bot_user_check(events_payload[\"events\"]))"
   ]
  },
  {
   "cell_type": "code",
   "execution_count": null,
   "id": "0e894926",
   "metadata": {},
   "outputs": [],
   "source": []
  }
 ],
 "metadata": {
  "kernelspec": {
   "display_name": "venv",
   "language": "python",
   "name": "python3"
  },
  "language_info": {
   "codemirror_mode": {
    "name": "ipython",
    "version": 3
   },
   "file_extension": ".py",
   "mimetype": "text/x-python",
   "name": "python",
   "nbconvert_exporter": "python",
   "pygments_lexer": "ipython3",
   "version": "3.13.7"
  }
 },
 "nbformat": 4,
 "nbformat_minor": 5
}
