{
 "cells": [
  {
   "cell_type": "code",
   "execution_count": 3,
   "id": "a53fc10f",
   "metadata": {},
   "outputs": [
    {
     "name": "stdout",
     "output_type": "stream",
     "text": [
      "✅ SQL file generated: output.sql\n"
     ]
    }
   ],
   "source": [
    "import pandas as pd\n",
    "import random\n",
    "\n",
    "def csv_to_sql_random_creator(csv_file, table_name, sql_file):\n",
    "    # Load CSV into DataFrame\n",
    "    df = pd.read_csv(csv_file)\n",
    "\n",
    "    with open(sql_file, \"w\", encoding=\"utf-8\") as f:\n",
    "        f.write(f\"-- SQL generated from {csv_file}\\n\\n\")\n",
    "\n",
    "        for _, row in df.iterrows():\n",
    "            video_id = row[\"video_id\"]\n",
    "            interaction_type = str(row[\"event_type\"]).upper()  # Force uppercase\n",
    "            engagement_duration = row[\"engagement_duration\"]\n",
    "            timestamp = row[\"timestamp\"]  # Use timestamp from CSV\n",
    "\n",
    "            # Assign random creator_id between 1 and 1000\n",
    "            creator_id = random.randint(1, 1000)\n",
    "\n",
    "            sql = (\n",
    "                f\"INSERT INTO {table_name} \"\n",
    "                f\"(video_id, creator_id, interaction_type, timestamp, engagement_duration)\\n\"\n",
    "                f\"VALUES ('{video_id}', {creator_id}, '{interaction_type}', '{timestamp}', {engagement_duration});\\n\"\n",
    "            )\n",
    "            f.write(sql)\n",
    "\n",
    "    print(f\"✅ SQL file generated: {sql_file}\")\n",
    "\n",
    "\n",
    "# Example usage\n",
    "csv_to_sql_random_creator(\n",
    "    r\"C:\\Users\\jeany\\Desktop\\NUS\\Projects\\TikTokJam-2025\\ai\\bot_detection\\datasets\\test_skibidi.csv\",\n",
    "    \"interaction_event_entity\",\n",
    "    \"output.sql\"\n",
    ")\n"
   ]
  },
  {
   "cell_type": "code",
   "execution_count": 16,
   "id": "2edcbac7",
   "metadata": {},
   "outputs": [
    {
     "name": "stdout",
     "output_type": "stream",
     "text": [
      "Quality score: 0.6\n"
     ]
    }
   ],
   "source": [
    "import requests\n",
    "\n",
    "# The Flask server URL\n",
    "BASE_URL = \"http://127.0.0.1:5000/admin/evaluate-video\"\n",
    "\n",
    "# Example video URL\n",
    "video_url = \"b58c3991_tiktok_7480905344793791762_video.mp4\"\n",
    "try:\n",
    "    # Pass the video URL as a query parameter\n",
    "    response = requests.get(BASE_URL, params={\"video_id\": video_url})\n",
    "    \n",
    "    # Check for successful response\n",
    "    if response.status_code == 200:\n",
    "        data = response.json()\n",
    "        print(f\"Quality score: {data.get('quality_score')}\")\n",
    "        if 'error' in data:\n",
    "            print(f\"Error: {data['error']}\")\n",
    "    else:\n",
    "        print(f\"Request failed with status code: {response.status_code}\")\n",
    "        print(response.text)\n",
    "except Exception as e:\n",
    "    print(f\"An error occurred: {e}\")\n"
   ]
  },
  {
   "cell_type": "code",
   "execution_count": 18,
   "id": "ad292cc7",
   "metadata": {},
   "outputs": [
    {
     "name": "stdout",
     "output_type": "stream",
     "text": [
      "Request failed with status code: 500\n",
      "{\"error\":\"axis 1 is out of bounds for array of dimension 1\"}\n",
      "\n"
     ]
    }
   ],
   "source": [
    "# Flask server URL\n",
    "BASE_URL = \"http://127.0.0.1:5000/admin/categorize-video\"\n",
    "video_id = video_url\n",
    "try:\n",
    "    # Send GET request with video_id as a query parameter\n",
    "    response = requests.get(BASE_URL, params={\"video_id\": video_id})\n",
    "    \n",
    "    # Check response\n",
    "    if response.status_code == 200:\n",
    "        data = response.json()\n",
    "        print(\"Categorization results:\")\n",
    "        print(data)\n",
    "    else:\n",
    "        print(f\"Request failed with status code: {response.status_code}\")\n",
    "        print(response.text)\n",
    "except Exception as e:\n",
    "    print(f\"An error occurred: {e}\")"
   ]
  },
  {
   "cell_type": "code",
   "execution_count": null,
   "id": "b7993ab0",
   "metadata": {},
   "outputs": [],
   "source": []
  }
 ],
 "metadata": {
  "kernelspec": {
   "display_name": "venv",
   "language": "python",
   "name": "python3"
  },
  "language_info": {
   "codemirror_mode": {
    "name": "ipython",
    "version": 3
   },
   "file_extension": ".py",
   "mimetype": "text/x-python",
   "name": "python",
   "nbconvert_exporter": "python",
   "pygments_lexer": "ipython3",
   "version": "3.13.7"
  }
 },
 "nbformat": 4,
 "nbformat_minor": 5
}
