{
 "cells": [
  {
   "cell_type": "code",
   "execution_count": 19,
   "id": "a53fc10f",
   "metadata": {},
   "outputs": [
    {
     "name": "stdout",
     "output_type": "stream",
     "text": [
      "✅ SQL file generated: output_new.sql\n"
     ]
    }
   ],
   "source": [
    "import pandas as pd\n",
    "import random\n",
    "\n",
    "def csv_to_sql_random_creator(csv_file, table_name, sql_file):\n",
    "    # Load CSV into DataFrame\n",
    "    df = pd.read_csv(csv_file)\n",
    "\n",
    "    with open(sql_file, \"w\", encoding=\"utf-8\") as f:\n",
    "        f.write(f\"-- SQL generated from {csv_file}\\n\\n\")\n",
    "\n",
    "        for _, row in df.iterrows():\n",
    "            video_id = row[\"video_id\"]\n",
    "            interaction_type = str(row[\"event_type\"]).upper()  # Force uppercase\n",
    "            engagement_duration = row[\"engagement_duration\"]\n",
    "            timestamp = row[\"timestamp\"]  # Use timestamp from CSV\n",
    "\n",
    "            # Assign random creator_id between 1 and 1000\n",
    "            creator_id = random.randint(1, 1000)\n",
    "\n",
    "            sql = (\n",
    "                f\"INSERT INTO {table_name} \"\n",
    "                f\"(video_id, creator_id, interaction_type, timestamp, engagement_duration)\\n\"\n",
    "                f\"VALUES ('{video_id}', {creator_id}, '{interaction_type}', '{timestamp}', {engagement_duration});\\n\"\n",
    "            )\n",
    "            f.write(sql)\n",
    "\n",
    "    print(f\"✅ SQL file generated: {sql_file}\")\n",
    "\n",
    "\n",
    "# Example usage\n",
    "csv_to_sql_random_creator(\n",
    "    r\"C:\\Users\\jeany\\Desktop\\NUS\\Projects\\TikTokJam-2025\\ai\\bot_detection\\clean_bot_dataset.csv\",\n",
    "    \"interaction_event_entity\",\n",
    "    \"output_new.sql\"\n",
    ")\n"
   ]
  },
  {
   "cell_type": "code",
   "execution_count": 4,
   "id": "2edcbac7",
   "metadata": {},
   "outputs": [
    {
     "name": "stdout",
     "output_type": "stream",
     "text": [
      "Quality score: 0.6\n"
     ]
    }
   ],
   "source": [
    "import requests\n",
    "\n",
    "# The Flask server URL\n",
    "# BASE_URL = \"http://127.0.0.1:5000/admin/evaluate-video\"\n",
    "BASE_URL = \"https://tiertok-ai-server.onrender.com/admin/evaluate-video\"\n",
    "\n",
    "# Example video URL\n",
    "video_url = \"b58c3991_tiktok_7480905344793791762_video.mp4\"\n",
    "try:\n",
    "    # Pass the video URL as a query parameter\n",
    "    response = requests.get(BASE_URL, params={\"video_id\": video_url})\n",
    "    \n",
    "    # Check for successful response\n",
    "    if response.status_code == 200:\n",
    "        data = response.json()\n",
    "        print(f\"Quality score: {data.get('quality_score')}\")\n",
    "        if 'error' in data:\n",
    "            print(f\"Error: {data['error']}\")\n",
    "    else:\n",
    "        print(f\"Request failed with status code: {response.status_code}\")\n",
    "        print(response.text)\n",
    "except Exception as e:\n",
    "    print(f\"An error occurred:{e}\")\n",
    "    raise\n"
   ]
  },
  {
   "cell_type": "code",
   "execution_count": 7,
   "id": "ad292cc7",
   "metadata": {},
   "outputs": [
    {
     "name": "stdout",
     "output_type": "stream",
     "text": [
      "Request failed with status code: 500\n",
      "{\"error\":\"axis 1 is out of bounds for array of dimension 1\"}\n",
      "\n"
     ]
    }
   ],
   "source": [
    "# Flask server URL\n",
    "BASE_URL = \"http://127.0.0.1:5000/admin/categorize-video\"\n",
    "video_id = video_url\n",
    "try:\n",
    "    # Send GET request with video_id as a query parameter\n",
    "    response = requests.get(BASE_URL, params={\"video_id\": video_id})\n",
    "    \n",
    "    # Check response\n",
    "    if response.status_code == 200:\n",
    "        data = response.json()\n",
    "        print(\"Categorization results:\")\n",
    "        print(data)\n",
    "    else:\n",
    "        print(f\"Request failed with status code: {response.status_code}\")\n",
    "        print(response.text)\n",
    "except Exception as e:\n",
    "    print(f\"An error occurred: {e}\")"
   ]
  },
  {
   "cell_type": "code",
   "execution_count": 13,
   "id": "b7993ab0",
   "metadata": {},
   "outputs": [
    {
     "name": "stdout",
     "output_type": "stream",
     "text": [
      "defaultdict(<class 'list'>, {'727': ['b58c3991_tiktok_7480905344793791762_video.mp4'], '656': ['312644b9_tiktok_7532793031649512712_video.mp4'], '925': ['24ddcf76_tiktok_7518294413584518418_video.mp4'], '120': ['4b3edb21_tiktok_7527430885956783382_video.mp4'], '303': ['c07dddab_tiktok_7449999917877120299_video.mp4'], '518': ['b9ab2b72_tiktok_7434424247029763374_video.mp4'], '861': ['faac9fd8_tiktok_7525274214937529622_video.mp4'], '139': ['f090a615_tiktok_7247868927445847301_video.mp4', '8c43606f_tiktok_7226890678834384171_video.mp4'], '897': ['89940286_tiktok_7502018523397459207_video.mp4'], '609': ['944f4610_tiktok_7505814798114884865_video.mp4'], '97': ['3757599c_tiktok_7541110263248997654_video.mp4'], '660': ['bfaec030_tiktok_7521694239118331149_video.mp4', 'bd2d2f3f_tiktok_7540356614256200982_video.mp4'], '494': ['49ce783d_tiktok_7522264619419766046_video.mp4'], '207': ['dbfb8e7d_tiktok_7510221822164602130_video.mp4', 'e48c46e6_tiktok_7532902237073460486_video.mp4'], '358': ['5614b29c_tiktok_7533350251415997718_video.mp4'], '672': ['0cb1e965_tiktok_7539046427876478230_video.mp4'], '613': ['f771d049_tiktok_7476827074032979218_video.mp4', '5ed7ce5e_tiktok_7144054068778962182_video.mp4'], '966': ['3da4978f_tiktok_7008423875465841921_video.mp4'], '533': ['25b0702a_tiktok_7532985228332240133_video.mp4', '56abc7ac_tiktok_7524367932093238550_video.mp4'], '314': ['95939219_tiktok_7519999785923808517_video.mp4'], '687': ['3ca05056_tiktok_7540937514979216662_video.mp4'], '556': ['6150d86e_tiktok_7500091914134277398_video.mp4'], '704': ['68d17172_tiktok_7371594401253952774_video.mp4'], '177': ['4b726057_tiktok_7507591176187432235_video.mp4', 'bb2e40eb_tiktok_7404609002031566112_video.mp4'], '31': ['19666cac_tiktok_7422686229788953874_video.mp4'], '95': ['7bdadadb_tiktok_7539781177201184022_video.mp4'], '329': ['2afc62c9_tiktok_7479792049445670151_video.mp4'], '347': ['ef0548b3_tiktok_7110962198700231942_video.mp4'], '623': ['0d223ce5_tiktok_7426376300983586064_video.mp4'], '82': ['1f28f9b5_tiktok_7446380488018726151_video.mp4'], '241': ['1c747767_tiktok_7522090387679268102_video.mp4'], '44': ['8567da8b_tiktok_7457504178152213767_video.mp4'], '505': ['5873bdad_tiktok_7520501320374291719_video.mp4'], '718': ['ee105ada_tiktok_7467828759031270662_video.mp4'], '608': ['1ae4c8f3_tiktok_7506797608782810390_video.mp4'], '962': ['104112f7_tiktok_7507324476175011079_video.mp4'], '961': ['fa87911d_tiktok_7517497016281222431_video.mp4', '39e64bf1_tiktok_7377231314467949830_video.mp4'], '677': ['77bb17d7_tiktok_7536624629272595734_video.mp4'], '189': ['dafbe33c_tiktok_7410360880472280336_video.mp4'], '411': ['45c3a460_tiktok_7534749754740280581_video.mp4'], '975': ['43ab66a3_tiktok_7535071324113227022_video.mp4'], '326': ['26126c05_tiktok_7490223559856508182_video.mp4'], '427': ['030d4daf_tiktok_7499576644449914134_video.mp4'], '635': ['29e15dfd_tiktok_7440065409153338646_video.mp4'], '790': ['abfc0b3d_tiktok_7196859631728151813_video.mp4'], '644': ['aea2794a_tiktok_7448890395481836818_video.mp4', 'fb82b9f8_tiktok_7543247633507274006_video.mp4'], '722': ['1a4fc7a8_tiktok_7424452177634135304_video.mp4'], '868': ['7e3bbb30_tiktok_7503889492290358558_video.mp4'], '865': ['a794aa33_tiktok_7489429655405989138_video.mp4'], '468': ['2e6ba277_tiktok_7519487853848579359_video.mp4', '21c207a8_tiktok_7533166179121188104_video.mp4'], '167': ['b70ee7d1_tiktok_7153107011088141614_video.mp4'], '748': ['b6cd15b3_tiktok_7543718832586771720_video.mp4'], '649': ['c162c613_tiktok_7429380135477923077_video.mp4'], '858': ['4230e0d9_tiktok_7536846205121236246_video.mp4'], '68': ['9184931b_tiktok_7500899795532270856_video.mp4'], '395': ['28ecf2eb_tiktok_7448919797347142918_video.mp4'], '197': ['1445b5cc_tiktok_7495284550109646102_video.mp4'], '855': ['db61fcae_tiktok_7415228898889305377_video.mp4'], '441': ['2889f49a_tiktok_7540720764442430751_video.mp4'], '306': ['8c2a45dc_tiktok_7508384415446256926_video.mp4', '2d44190c_tiktok_7537730607422508344_video.mp4'], '53': ['975fc710_tiktok_7006136181754809627_video.mp4'], '492': ['c36c2624_tiktok_6950746596883631365_video.mp4'], '265': ['01120921_tiktok_7542642758813633814_video.mp4'], '424': ['3fd6d2ef_tiktok_7525135240050871566_video.mp4'], '736': ['6638cc57_tiktok_7457923114391981317_video.mp4'], '763': ['efb847ff_tiktok_7515431799858793733_video.mp4'], '255': ['bf1fd368_tiktok_7540621307533315336_video.mp4'], '679': ['9649cc4c_tiktok_7481414385081142533_video.mp4'], '443': ['091d0c7a_tiktok_7436172812240293163_video.mp4'], '542': ['566554f7_tiktok_7518962443985374477_video.mp4'], '311': ['c5339ef0_tiktok_7507208261632822551_video.mp4'], '849': ['e30177ea_tiktok_7453008311806463250_video.mp4'], '21': ['370f9e37_tiktok_7483078591400480022_video.mp4'], '465': ['568b1e47_tiktok_7499573973697580295_video.mp4'], '80': ['9941988e_tiktok_7435210229815577888_video.mp4'], '894': ['1ec564f8_tiktok_7524636135155436813_video.mp4'], '508': ['9cc6b647_tiktok_7128720887397895450_video.mp4'], '488': ['2db1c330_tiktok_7525659086898187542_video.mp4'], '509': ['a4143d6c_tiktok_7336319767654993160_video.mp4'], '583': ['3cc1a126_tiktok_7518398168627711239_video.mp4'], '788': ['afe4f11f_tiktok_7496148856724344070_video.mp4'], '560': ['9974969c_tiktok_7522112078484671745_video.mp4'], '409': ['9574160f_tiktok_7508846941736930582_video.mp4'], '109': ['18666a29_tiktok_6876384304021163265_video.mp4', '4c632e5e_tiktok_7542804482879474965_video.mp4'], '612': ['cdb384c9_tiktok_7496781582234291502_video.mp4'], '848': ['ac3c7815_tiktok_7503282860812553502_video.mp4', '19231843_tiktok_7087439225523670298_video.mp4'], '16': ['96f87fda_tiktok_7465385741959433505_video.mp4'], '440': ['42177798_tiktok_7540006978139999510_video.mp4', '4471c43a_tiktok_7521691046779047224_video.mp4'], '98': ['c8f6d2a9_tiktok_7541025551838891286_video.mp4'], '594': ['849d988d_tiktok_7377092578409254152_video.mp4', '3bb4a987_tiktok_7513930734860619016_video.mp4'], '725': ['4f6454f7_tiktok_7465389210267110698_video.mp4'], '300': ['6e03f5df_tiktok_7058278865063464197_video.mp4'], '696': ['d9679a46_tiktok_7541688872556678422_video.mp4'], '905': ['1c10eb92_tiktok_7385451432603815169_video.mp4'], '229': ['53aacd36_tiktok_7479441624146251038_video.mp4', 'c2375721_tiktok_6751325446933056770_video.mp4'], '853': ['7795d93f_tiktok_7538587440588541197_video.mp4'], '312': ['d04d7036_tiktok_7501377534144072982_video.mp4'], '755': ['0618b129_tiktok_6982123081460387074_video.mp4'], '73': ['5b59157d_tiktok_7536027870066478366_video.mp4'], '410': ['d8c59aba_tiktok_7534167332420160790_video.mp4'], '879': ['be890b4b_tiktok_7543153296500968711_video.mp4', 'f571eeb6_tiktok_7455863448094706966_video.mp4'], '963': ['b6e20efb_tiktok_7507265271338437910_video.mp4'], '657': ['a72e1bc2_tiktok_7544112106417736966_video.mp4'], '389': ['04749d79_tiktok_7491986570854026551_video.mp4'], '974': ['4fea9483_tiktok_7543601609670921490_video.mp4'], '851': ['212bbc7f_tiktok_7527156654345932050_video.mp4'], '710': ['8324ef71_tiktok_7487856258083589398_video.mp4'], '459': ['dfdad545_tiktok_7543622074816892167_video.mp4'], '256': ['47f065c6_tiktok_7503002682328632606_video.mp4'], '760': ['ce81e40c_tiktok_7514565184023842104_video.mp4'], '772': ['17a40c5d_tiktok_7536649735898402071_video.mp4'], '554': ['596e3e3a_tiktok_7536557634971766030_video.mp4'], '350': ['35e5138c_tiktok_6815581704422558978_video.mp4'], '719': ['2161d77d_tiktok_7537198974965468471_video.mp4'], '170': ['a7d1e344_tiktok_7538257149860891959_video.mp4'], '920': ['b7749a40_tiktok_7531351072821087519_video.mp4'], '375': ['e80b94de_tiktok_6995968448232705285_video.mp4'], '819': ['fedd1f76_tiktok_7506450249049804037_video.mp4'], '125': ['90f51758_tiktok_7541857007997881656_video.mp4'], '647': ['763d318a_tiktok_7521947798762212639_video.mp4'], '365': ['55121cec_tiktok_7537686648633543967_video.mp4'], '522': ['7d6a8b3b_tiktok_7509945239658941738_video.mp4'], '101': ['4689f6a9_tiktok_7500208528515157270_video.mp4'], '176': ['f15119f8_tiktok_7515082701343362326_video.mp4'], '808': ['e4e9c03b_tiktok_7525354136611654967_video.mp4'], '857': ['0b04ac39_tiktok_7467830635432873238_video.mp4'], '87': ['1f75b1a7_tiktok_7496148856724344070_video.mp4', '3afd0665_tiktok_7493203034466454827_video.mp4'], '278': ['c33edecd_tiktok_7535899738831457591_video.mp4'], '111': ['b22dfd36_tiktok_7519543760556952854_video.mp4'], '744': ['9b2c9545_tiktok_7536858205805137174_video.mp4'], '297': ['f62f7b7a_tiktok_7536646823553813782_video.mp4'], '880': ['eec62960_tiktok_7544111966286073144_video.mp4'], '458': ['faea349c_tiktok_7541781756572093718_video.mp4'], '188': ['c43c3ba8_tiktok_7377202086099930401_video.mp4'], '489': ['961a3f26_tiktok_7509109890988690719_video.mp4'], '79': ['a66d4886_tiktok_7384419600663940357_video.mp4', '62022368_tiktok_7521654047171022102_video.mp4'], '309': ['4dd1cc8b_tiktok_7501640894420962606_video.mp4'], '652': ['9de979dc_tiktok_7534863996663467286_video.mp4'], '26': ['b2c5b9b3_tiktok_7471694155584998702_video.mp4'], '266': ['1be253fd_tiktok_7527321278374546719_video.mp4'], '567': ['ca18ce92_tiktok_7126459880176700674_video.mp4'], '545': ['77a6bbe0_tiktok_7201484961956810027_video.mp4'], '584': ['1499d2e9_tiktok_7455504646484806943_video.mp4'], '178': ['c6544dc0_tiktok_7536624710365302047_video.mp4'], '425': ['e44501f2_tiktok_7392613379174649094_video.mp4'], '463': ['afa28bda_tiktok_7520673285961518358_video.mp4'], '181': ['9007656b_tiktok_7478773217700744470_video.mp4'], '298': ['60af6ef7_tiktok_7543564075293248823_video.mp4'], '141': ['10f7b6d5_tiktok_7237817772896505093_video.mp4'], '369': ['0e053ad3_tiktok_7289031291280837890_video.mp4'], '797': ['e5976d99_tiktok_7540616226968456466_video.mp4'], '399': ['4b0d85b5_tiktok_7236617000196377883_video.mp4'], '90': ['e356b06c_tiktok_7525759912945667341_video.mp4'], '245': ['eed31db3_tiktok_7437532333311397153_video.mp4'], '272': ['dbf2b927_tiktok_7475275532637113608_video.mp4'], '814': ['a414c273_tiktok_7534264450384219398_video.mp4'], '888': ['5451ec9d_tiktok_7402375932108983583_video.mp4'], '382': ['79be9900_tiktok_7479368242411212050_video.mp4'], '405': ['fc602d6f_tiktok_7509767467850321174_video.mp4'], '418': ['3fb29180_tiktok_7495191518068722962_video.mp4'], '486': ['68e57c67_tiktok_7527589368471522573_video.mp4'], '985': ['363313ba_tiktok_7539499906076036382_video.mp4'], '812': ['8165eab8_tiktok_7524676327295749384_video.mp4'], '193': ['8d93704b_tiktok_7336498082202324242_video.mp4', '7279f9b3_tiktok_7492798274475232520_video.mp4'], '600': ['1b62da06_tiktok_7540477425814179079_video.mp4'], '588': ['291ce926_tiktok_7500594249658830102_video.mp4'], '237': ['0630d7ab_tiktok_7451829284404137262_video.mp4'], '930': ['97c42dd6_tiktok_7346312096285527303_video.mp4'], '165': ['cd7ca7f2_tiktok_7500053854294215966_video.mp4'], '765': ['0a51853e_tiktok_7503404803867839752_video.mp4'], '105': ['f5d63802_tiktok_7444204205641944336_video.mp4'], '70': ['db12bfd2_tiktok_7543313324499340552_video.mp4'], '19': ['8b9a9358_tiktok_7542505173940260103_video.mp4'], '552': ['8963690d_tiktok_7512485152010865942_video.mp4'], '988': ['a8986493_tiktok_7521593605538991367_video.mp4'], '538': ['3753a65a_tiktok_7491576964013231365_video.mp4'], '578': ['d55e6ac4_tiktok_7521291736346283296_video.mp4'], '761': ['881350df_tiktok_7541822968335289614_video.mp4'], '493': ['4a739ffa_tiktok_7526998415033650437_video.mp4'], '476': ['dd0d6a4f_tiktok_7517418238339255583_video.mp4'], '24': ['1af70c5c_tiktok_7288689012720635144_video.mp4']})\n"
     ]
    }
   ],
   "source": [
    "import re\n",
    "from collections import defaultdict\n",
    "\n",
    "def extract_creators_and_videos(sql_file_path):\n",
    "    creators_dict = defaultdict(list)\n",
    "\n",
    "    # This regex captures everything inside VALUES(...)\n",
    "    values_pattern = re.compile(r\"VALUES\\s*\\((.*)\\);\", re.DOTALL)\n",
    "\n",
    "    with open(sql_file_path, \"r\", encoding=\"utf-8\") as f:\n",
    "        for line in f:\n",
    "            match = values_pattern.search(line)\n",
    "            if not match:\n",
    "                continue\n",
    "\n",
    "            values_str = match.group(1)\n",
    "            \n",
    "            # Split by commas that are not inside quotes\n",
    "            parts = re.split(r\",(?=(?:[^']*'[^']*')*[^']*$)\", values_str.strip())\n",
    "\n",
    "            # Clean whitespace and surrounding quotes\n",
    "            parts = [p.strip().strip(\"'\") for p in parts]\n",
    "\n",
    "            if len(parts) < 3:\n",
    "                continue\n",
    "\n",
    "            video_id = parts[0]\n",
    "            creator_id = parts[2]\n",
    "\n",
    "            creators_dict[creator_id].append(video_id)\n",
    "\n",
    "    return creators_dict\n",
    "\n",
    "\n",
    "sql_file = \"video.sql\"  # your SQL file\n",
    "creators_videos = extract_creators_and_videos(sql_file)\n",
    "\n",
    "# Print results\n",
    "print(creators_videos)\n"
   ]
  },
  {
   "cell_type": "code",
   "execution_count": 16,
   "id": "758fa546",
   "metadata": {},
   "outputs": [],
   "source": [
    "def generate_dataset(\n",
    "    creator_videos_map,  # dict: {creator_id: [video_id1, video_id2, ...]}\n",
    "    num_users=200, \n",
    "    bot_fraction=0.25, \n",
    "    save_to_csv=True, \n",
    "    filename=\"clean_bot_dataset.csv\"\n",
    "):\n",
    "    # Flatten into a list of {video_id, creator_id}\n",
    "    videos = []\n",
    "    for creator_id, vids in creator_videos_map.items():\n",
    "        for v in vids:\n",
    "            videos.append({\"video_id\": v, \"creator_id\": creator_id})\n",
    "\n",
    "    num_videos = len(videos)\n",
    "\n",
    "    # --- user generation ---\n",
    "    num_bots = int(num_users * bot_fraction)\n",
    "    users = []\n",
    "    for i in range(num_bots):\n",
    "        bot_type = random.choices(\n",
    "            list(self.bot_types.keys()), \n",
    "            weights=[self.bot_types[bt][\"weight\"] for bt in self.bot_types.keys()]\n",
    "        )[0]\n",
    "        users.append(self.generate_user_profile(f\"bot_user_{i+1}\", True, bot_type))\n",
    "    for i in range(num_users - num_bots):\n",
    "        users.append(self.generate_user_profile(f\"human_user_{i+1}\", False))\n",
    "    random.shuffle(users)\n",
    "\n",
    "    events = []\n",
    "    for user in users:\n",
    "        device_info = self.generate_device_info(user[\"is_bot\"])\n",
    "        engaged_videos = random.sample(videos, k=random.randint(1, min(5, num_videos)))\n",
    "        for video in engaged_videos:\n",
    "            num_events = random.choice([1,2,3])\n",
    "            for t in self.generate_temporal_pattern(user, num_events):\n",
    "                event_type = random.choices(\n",
    "                    [\"view\",\"like\",\"share\",\"comment\"], \n",
    "                    weights=[0.7,0.2,0.07,0.03]\n",
    "                )[0]\n",
    "                velocity_range = (\n",
    "                    self.velocity_patterns[\"human_like\"] \n",
    "                    if not user[\"is_bot\"] \n",
    "                    else self.velocity_patterns[self.bot_types[user[\"bot_type\"]][\"engagement_velocity\"]]\n",
    "                )\n",
    "                engagement_duration = random.uniform(*velocity_range)\n",
    "                events.append({\n",
    "                    \"event_id\": f\"e{len(events)+1}\",\n",
    "                    \"timestamp\": t.isoformat(),\n",
    "                    \"user_id\": user[\"user_id\"],\n",
    "                    \"is_bot\": user[\"is_bot\"],\n",
    "                    \"bot_type\": user[\"bot_type\"],\n",
    "                    \"account_age_days\": user[\"account_age_days\"],\n",
    "                    \"followers_count\": user[\"followers_count\"],\n",
    "                    \"following_count\": user[\"following_count\"],\n",
    "                    \"profile_pic\": user[\"profile_pic\"],\n",
    "                    \"bio_length\": user[\"bio_length\"],\n",
    "                    \"verified\": user[\"verified\"],\n",
    "                    \"location_consistent\": user[\"location_consistent\"],\n",
    "                    \"ip_address\": device_info[\"ip_address\"],\n",
    "                    \"timezone_offset\": device_info[\"timezone_offset\"],\n",
    "                    \"video_id\": video[\"video_id\"],\n",
    "                    \"creator_id\": video[\"creator_id\"],\n",
    "                    \"event_type\": event_type,\n",
    "                    \"engagement_duration\": round(engagement_duration, 2)\n",
    "                })\n",
    "\n",
    "    df = pd.DataFrame(events)\n",
    "    if save_to_csv:\n",
    "        df.to_csv(filename, index=False)\n",
    "        print(f\"Dataset saved to {filename}, shape={df.shape}\")\n",
    "    return df\n"
   ]
  },
  {
   "cell_type": "code",
   "execution_count": 17,
   "id": "dd66aca3",
   "metadata": {},
   "outputs": [
    {
     "ename": "NameError",
     "evalue": "name 'random' is not defined",
     "output_type": "error",
     "traceback": [
      "\u001b[31m---------------------------------------------------------------------------\u001b[39m",
      "\u001b[31mNameError\u001b[39m                                 Traceback (most recent call last)",
      "\u001b[36mCell\u001b[39m\u001b[36m \u001b[39m\u001b[32mIn[17]\u001b[39m\u001b[32m, line 1\u001b[39m\n\u001b[32m----> \u001b[39m\u001b[32m1\u001b[39m df = \u001b[43mgenerate_dataset\u001b[49m\u001b[43m(\u001b[49m\u001b[43mcreators_videos\u001b[49m\u001b[43m,\u001b[49m\u001b[43m \u001b[49m\u001b[43mnum_users\u001b[49m\u001b[43m=\u001b[49m\u001b[32;43m200\u001b[39;49m\u001b[43m,\u001b[49m\u001b[43m \u001b[49m\u001b[43mbot_fraction\u001b[49m\u001b[43m=\u001b[49m\u001b[32;43m0.2\u001b[39;49m\u001b[43m)\u001b[49m\n",
      "\u001b[36mCell\u001b[39m\u001b[36m \u001b[39m\u001b[32mIn[16]\u001b[39m\u001b[32m, line 20\u001b[39m, in \u001b[36mgenerate_dataset\u001b[39m\u001b[34m(creator_videos_map, num_users, bot_fraction, save_to_csv, filename)\u001b[39m\n\u001b[32m     18\u001b[39m users = []\n\u001b[32m     19\u001b[39m \u001b[38;5;28;01mfor\u001b[39;00m i \u001b[38;5;129;01min\u001b[39;00m \u001b[38;5;28mrange\u001b[39m(num_bots):\n\u001b[32m---> \u001b[39m\u001b[32m20\u001b[39m     bot_type = \u001b[43mrandom\u001b[49m.choices(\n\u001b[32m     21\u001b[39m         \u001b[38;5;28mlist\u001b[39m(\u001b[38;5;28mself\u001b[39m.bot_types.keys()), \n\u001b[32m     22\u001b[39m         weights=[\u001b[38;5;28mself\u001b[39m.bot_types[bt][\u001b[33m\"\u001b[39m\u001b[33mweight\u001b[39m\u001b[33m\"\u001b[39m] \u001b[38;5;28;01mfor\u001b[39;00m bt \u001b[38;5;129;01min\u001b[39;00m \u001b[38;5;28mself\u001b[39m.bot_types.keys()]\n\u001b[32m     23\u001b[39m     )[\u001b[32m0\u001b[39m]\n\u001b[32m     24\u001b[39m     users.append(\u001b[38;5;28mself\u001b[39m.generate_user_profile(\u001b[33mf\u001b[39m\u001b[33m\"\u001b[39m\u001b[33mbot_user_\u001b[39m\u001b[38;5;132;01m{\u001b[39;00mi+\u001b[32m1\u001b[39m\u001b[38;5;132;01m}\u001b[39;00m\u001b[33m\"\u001b[39m, \u001b[38;5;28;01mTrue\u001b[39;00m, bot_type))\n\u001b[32m     25\u001b[39m \u001b[38;5;28;01mfor\u001b[39;00m i \u001b[38;5;129;01min\u001b[39;00m \u001b[38;5;28mrange\u001b[39m(num_users - num_bots):\n",
      "\u001b[31mNameError\u001b[39m: name 'random' is not defined"
     ]
    }
   ],
   "source": [
    "df = generate_dataset(creators_videos, num_users=200, bot_fraction=0.2)"
   ]
  },
  {
   "cell_type": "code",
   "execution_count": null,
   "id": "ce1fd121",
   "metadata": {},
   "outputs": [],
   "source": []
  }
 ],
 "metadata": {
  "kernelspec": {
   "display_name": "venv",
   "language": "python",
   "name": "python3"
  },
  "language_info": {
   "codemirror_mode": {
    "name": "ipython",
    "version": 3
   },
   "file_extension": ".py",
   "mimetype": "text/x-python",
   "name": "python",
   "nbconvert_exporter": "python",
   "pygments_lexer": "ipython3",
   "version": "3.13.7"
  }
 },
 "nbformat": 4,
 "nbformat_minor": 5
}
